{
  "cells": [
    {
      "cell_type": "markdown",
      "metadata": {
        "id": "GzkG4LcQt4-1"
      },
      "source": [
        "# Introduction to Python\n",
        "\n",
        "## Object Oriented Programming\n",
        "\n",
        "## Metodos Computacionales 1\n",
        "## Uniandes\n",
        "\n",
        "Based on [SoloLearn Python](https://www.sololearn.com/Play/Python)"
      ]
    },
    {
      "cell_type": "markdown",
      "metadata": {
        "id": "DIWNOCWsuHEo"
      },
      "source": [
        "## Class Constructor \\__init__"
      ]
    },
    {
      "cell_type": "code",
      "execution_count": null,
      "metadata": {
        "id": "nekteyH-t-Wz"
      },
      "outputs": [],
      "source": [
        "class Cat:\n",
        "    def __init__(self, color, legs):\n",
        "        self.color = color\n",
        "        self.legs = legs\n",
        "        print(\"a\")\n",
        "    def get_color(self):\n",
        "        return self.color"
      ]
    },
    {
      "cell_type": "code",
      "execution_count": null,
      "metadata": {
        "id": "ou-hiM2ruRIA",
        "outputId": "9e5ba62d-cb73-4fac-c4a3-b581fa2992b8"
      },
      "outputs": [
        {
          "name": "stdout",
          "output_type": "stream",
          "text": [
            "a\n",
            "a\n",
            "a\n"
          ]
        }
      ],
      "source": [
        "# Class Instances\n",
        "felix = Cat(\"ginger\", 4)\n",
        "rover = Cat(\"dog-colored\", 4)\n",
        "stumpy = Cat(\"brown\", 3)"
      ]
    },
    {
      "cell_type": "code",
      "execution_count": null,
      "metadata": {
        "id": "RrfxOo6-fW5K",
        "outputId": "6c21ce0b-3685-42ff-9ecc-618bede17626"
      },
      "outputs": [
        {
          "data": {
            "text/plain": [
              "'ginger'"
            ]
          },
          "execution_count": 42,
          "metadata": {},
          "output_type": "execute_result"
        }
      ],
      "source": [
        "felix.get_color()"
      ]
    },
    {
      "cell_type": "markdown",
      "metadata": {
        "id": "483VbCVCvKuV"
      },
      "source": [
        "## Methods"
      ]
    },
    {
      "cell_type": "code",
      "execution_count": null,
      "metadata": {
        "id": "NA7ZfNpfuX_Z"
      },
      "outputs": [],
      "source": [
        "class Cat:\n",
        "    def __init__(self, color, legs):\n",
        "        self.color = color\n",
        "        self.legs = legs\n",
        "        print(\"a\")\n",
        "    def meow(self):\n",
        "        print(\"miau\")"
      ]
    },
    {
      "cell_type": "code",
      "execution_count": null,
      "metadata": {
        "colab": {
          "base_uri": "https://localhost:8080/",
          "height": 34
        },
        "id": "DDkT2sylvrYD",
        "outputId": "24a70fd2-58fc-49d9-cf8e-3c521ec47caa"
      },
      "outputs": [
        {
          "name": "stdout",
          "output_type": "stream",
          "text": [
            "miau\n"
          ]
        }
      ],
      "source": [
        "rover.meow()"
      ]
    },
    {
      "cell_type": "markdown",
      "metadata": {
        "id": "EjZeyD9kwkQ5"
      },
      "source": [
        "## Inheritance"
      ]
    },
    {
      "cell_type": "code",
      "execution_count": null,
      "metadata": {
        "id": "BE2AgeyAvwI9"
      },
      "outputs": [],
      "source": [
        "class Wolf:\n",
        "    def __init__(self, name, color):\n",
        "        self.name = name\n",
        "        self.color = color\n",
        "\n",
        "    def bark(self):\n",
        "        print(\"Woof\")\n",
        ""
      ]
    },
    {
      "cell_type": "code",
      "execution_count": null,
      "metadata": {
        "id": "KTRyM2JMfW5N"
      },
      "outputs": [],
      "source": [
        "class Dog(Wolf):\n",
        "    #pass\n",
        "    def saludar(self): ## Sobreescribir el metodo\n",
        "        print(\"Guau gua\")"
      ]
    },
    {
      "cell_type": "code",
      "execution_count": null,
      "metadata": {
        "colab": {
          "base_uri": "https://localhost:8080/",
          "height": 34
        },
        "id": "XqV2NXOjwo2o",
        "outputId": "7c4fc8f0-aad0-4021-f077-82d6615311e7"
      },
      "outputs": [
        {
          "name": "stdout",
          "output_type": "stream",
          "text": [
            "Woof\n",
            "Woof\n"
          ]
        },
        {
          "data": {
            "text/plain": [
              "(None, None)"
            ]
          },
          "execution_count": 68,
          "metadata": {},
          "output_type": "execute_result"
        }
      ],
      "source": [
        "husky = Dog(\"Max\", \"grey\")\n",
        "siberiano = Wolf(\"Andrez\", \"Red\")\n",
        "husky.bark(), siberiano.bark()"
      ]
    },
    {
      "cell_type": "code",
      "execution_count": null,
      "metadata": {
        "id": "B1L-rCb_fW5O",
        "outputId": "a19ea5b5-1b60-4b6b-cd02-428be24d33b0"
      },
      "outputs": [
        {
          "name": "stdout",
          "output_type": "stream",
          "text": [
            "Guau gua\n"
          ]
        }
      ],
      "source": [
        "husky.saludar()"
      ]
    },
    {
      "cell_type": "markdown",
      "metadata": {
        "id": "tFVPTDfXxQtS"
      },
      "source": [
        "## Super\n",
        "\n"
      ]
    },
    {
      "cell_type": "code",
      "execution_count": null,
      "metadata": {
        "id": "hUX8y-iNw45K"
      },
      "outputs": [],
      "source": []
    },
    {
      "cell_type": "code",
      "execution_count": null,
      "metadata": {
        "id": "HiM_hgCExzJZ"
      },
      "outputs": [],
      "source": []
    },
    {
      "cell_type": "markdown",
      "metadata": {
        "id": "4BsreufK1WUr"
      },
      "source": [
        "## Example\n",
        "\n",
        "One warrior and one knight with health = 50, the warrior has variable attack, the knight has an attack of 55.\n",
        "The warrior attacks first, check who dies first."
      ]
    },
    {
      "cell_type": "code",
      "execution_count": null,
      "metadata": {
        "id": "PLETgwyIx1Rn"
      },
      "outputs": [],
      "source": [
        "class Warrior:\n",
        "    def __init__(self, attack):\n",
        "        self.health = 50\n",
        "        self.attack = attack\n",
        "    def is_alive(self):\n",
        "        if self.health <= 0:\n",
        "            print(\"is dead\")\n",
        "        else:\n",
        "            print(\"is alive\")"
      ]
    },
    {
      "cell_type": "code",
      "execution_count": null,
      "metadata": {
        "id": "jkSjyjcO3dki"
      },
      "outputs": [],
      "source": [
        "class Knight(Warrior):\n",
        "    def __init__(self):\n",
        "        self.health = 50\n",
        "        self.attack = 55"
      ]
    },
    {
      "cell_type": "code",
      "execution_count": null,
      "metadata": {
        "id": "3nbnq2F64KHs"
      },
      "outputs": [],
      "source": [
        "def fight(knight, warrior):\n",
        "    knight.health = knight.health - warrior.attack\n",
        "    print(\"Knight\")\n",
        "    knight.is_alive()\n",
        "    print(\"Warrior\")\n",
        "    warrior.is_alive()\n",
        "    if knight.health > 0:\n",
        "        warrior.health = warrior.health - knight.attack\n",
        "        print(\"Knight\")\n",
        "        knight.is_alive()\n",
        "        print(\"Warrior\")\n",
        "        warrior.is_alive()"
      ]
    },
    {
      "cell_type": "code",
      "execution_count": null,
      "metadata": {
        "id": "t3JrMH_h5Zdf"
      },
      "outputs": [],
      "source": [
        "santiago = Warrior(75)\n",
        "Arthur = Knight()\n",
        "\n",
        "#fight(santiago, Arthur)"
      ]
    },
    {
      "cell_type": "code",
      "execution_count": null,
      "metadata": {
        "colab": {
          "base_uri": "https://localhost:8080/",
          "height": 153
        },
        "id": "fyT92W6f5mey",
        "outputId": "50d31247-dc1c-414e-9f85-5ebb25e657eb"
      },
      "outputs": [
        {
          "name": "stdout",
          "output_type": "stream",
          "text": [
            "Knight\n",
            "is dead\n",
            "Warrior\n",
            "is alive\n"
          ]
        }
      ],
      "source": [
        "fight(Arthur, santiago)"
      ]
    },
    {
      "cell_type": "code",
      "execution_count": null,
      "metadata": {
        "id": "Wu3QHFWT5qGy"
      },
      "outputs": [],
      "source": []
    }
  ],
  "metadata": {
    "colab": {
      "provenance": []
    },
    "kernelspec": {
      "display_name": "Python 3",
      "language": "python",
      "name": "python3"
    },
    "language_info": {
      "codemirror_mode": {
        "name": "ipython",
        "version": 3
      },
      "file_extension": ".py",
      "mimetype": "text/x-python",
      "name": "python",
      "nbconvert_exporter": "python",
      "pygments_lexer": "ipython3",
      "version": "3.8.10"
    }
  },
  "nbformat": 4,
  "nbformat_minor": 0
}