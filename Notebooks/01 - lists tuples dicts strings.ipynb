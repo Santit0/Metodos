{
 "cells": [
  {
   "cell_type": "markdown",
   "metadata": {
    "colab_type": "text",
    "id": "tAbV8ljjT_fC"
   },
   "source": [
    "# Introducition to Python 2\n",
    "\n",
    "## Str - Lists - Tuples - Dicts\n",
    "\n",
    "## Metodos Computacionales I\n",
    "## Uniandes\n",
    "\n",
    "Based on [SoloLearn Python](https://www.sololearn.com/Play/Python)"
   ]
  },
  {
   "cell_type": "markdown",
   "metadata": {
    "colab_type": "text",
    "id": "-FzvZO1uUmNC"
   },
   "source": [
    "## Strings"
   ]
  },
  {
   "cell_type": "code",
   "execution_count": null,
   "metadata": {
    "colab": {
     "base_uri": "https://localhost:8080/",
     "height": 34
    },
    "colab_type": "code",
    "executionInfo": {
     "elapsed": 474,
     "status": "ok",
     "timestamp": 1600277289620,
     "user": {
      "displayName": "Diego Useche Reyes",
      "photoUrl": "https://lh3.googleusercontent.com/a-/AOh14Gg6lrk9agmplTKK54rGVqavR8_tM4odcJqDil2B2w=s64",
      "userId": "02270832771774592167"
     },
     "user_tz": 300
    },
    "id": "psqA04lLUnYV",
    "outputId": "52a256db-d252-4f76-a7ef-82d0e0559f31"
   },
   "outputs": [
    {
     "name": "stdout",
     "output_type": "stream",
     "text": [
      "Hello World\n"
     ]
    }
   ],
   "source": [
    "# Concatenation\n",
    "print(\"Hello\" +\" \" +\"World\")"
   ]
  },
  {
   "cell_type": "code",
   "execution_count": null,
   "metadata": {
    "colab": {
     "base_uri": "https://localhost:8080/",
     "height": 34
    },
    "colab_type": "code",
    "executionInfo": {
     "elapsed": 810,
     "status": "ok",
     "timestamp": 1600277292793,
     "user": {
      "displayName": "Diego Useche Reyes",
      "photoUrl": "https://lh3.googleusercontent.com/a-/AOh14Gg6lrk9agmplTKK54rGVqavR8_tM4odcJqDil2B2w=s64",
      "userId": "02270832771774592167"
     },
     "user_tz": 300
    },
    "id": "QxSTmrZGVEEc",
    "outputId": "ba01d325-ca13-4eb4-d884-dd2a42de7234"
   },
   "outputs": [
    {
     "name": "stdout",
     "output_type": "stream",
     "text": [
      "HelloHelloHello\n"
     ]
    }
   ],
   "source": [
    "# Muliplication of strings \n",
    "print(\"Hello\"*3)"
   ]
  },
  {
   "cell_type": "code",
   "execution_count": null,
   "metadata": {
    "colab": {
     "base_uri": "https://localhost:8080/",
     "height": 34
    },
    "colab_type": "code",
    "executionInfo": {
     "elapsed": 929,
     "status": "ok",
     "timestamp": 1600277295192,
     "user": {
      "displayName": "Diego Useche Reyes",
      "photoUrl": "https://lh3.googleusercontent.com/a-/AOh14Gg6lrk9agmplTKK54rGVqavR8_tM4odcJqDil2B2w=s64",
      "userId": "02270832771774592167"
     },
     "user_tz": 300
    },
    "id": "HFBUQMl-VN74",
    "outputId": "a4dad89b-ef26-4bf1-f45e-968c40d19714"
   },
   "outputs": [
    {
     "name": "stdout",
     "output_type": "stream",
     "text": [
      "Maria Judith Andrea\n"
     ]
    }
   ],
   "source": [
    "# Join Function\n",
    "name = \" \".join((\"Maria\", \"Judith\", \"Andrea\"))\n",
    "print(name)"
   ]
  },
  {
   "cell_type": "code",
   "execution_count": null,
   "metadata": {
    "colab": {
     "base_uri": "https://localhost:8080/",
     "height": 34
    },
    "colab_type": "code",
    "executionInfo": {
     "elapsed": 914,
     "status": "ok",
     "timestamp": 1600277297514,
     "user": {
      "displayName": "Diego Useche Reyes",
      "photoUrl": "https://lh3.googleusercontent.com/a-/AOh14Gg6lrk9agmplTKK54rGVqavR8_tM4odcJqDil2B2w=s64",
      "userId": "02270832771774592167"
     },
     "user_tz": 300
    },
    "id": "Juu9mcwPYWwj",
    "outputId": "748334d5-79cb-4ec6-9587-7d723aa06d9b"
   },
   "outputs": [
    {
     "name": "stdout",
     "output_type": "stream",
     "text": [
      "Maria Judith Andrea\n"
     ]
    }
   ],
   "source": [
    "# Strings are unmutable\n",
    "name.upper()\n",
    "print(name)"
   ]
  },
  {
   "cell_type": "code",
   "execution_count": null,
   "metadata": {
    "colab": {
     "base_uri": "https://localhost:8080/",
     "height": 34
    },
    "colab_type": "code",
    "executionInfo": {
     "elapsed": 1004,
     "status": "ok",
     "timestamp": 1600277299701,
     "user": {
      "displayName": "Diego Useche Reyes",
      "photoUrl": "https://lh3.googleusercontent.com/a-/AOh14Gg6lrk9agmplTKK54rGVqavR8_tM4odcJqDil2B2w=s64",
      "userId": "02270832771774592167"
     },
     "user_tz": 300
    },
    "id": "pVSre8AxYdNi",
    "outputId": "f0d1aab5-ab95-40b9-f87b-e8169bbe65f0"
   },
   "outputs": [
    {
     "name": "stdout",
     "output_type": "stream",
     "text": [
      "MARIA JUDITH ANDREA\n"
     ]
    }
   ],
   "source": [
    "# Upper or Lower Functions\n",
    "name_upper = name.upper()\n",
    "print(name_upper)"
   ]
  },
  {
   "cell_type": "code",
   "execution_count": null,
   "metadata": {
    "colab": {
     "base_uri": "https://localhost:8080/",
     "height": 34
    },
    "colab_type": "code",
    "executionInfo": {
     "elapsed": 754,
     "status": "ok",
     "timestamp": 1600277301859,
     "user": {
      "displayName": "Diego Useche Reyes",
      "photoUrl": "https://lh3.googleusercontent.com/a-/AOh14Gg6lrk9agmplTKK54rGVqavR8_tM4odcJqDil2B2w=s64",
      "userId": "02270832771774592167"
     },
     "user_tz": 300
    },
    "id": "6rtj2emWVsCe",
    "outputId": "45ea1380-1afc-4db1-a4be-3f2d54994843"
   },
   "outputs": [
    {
     "data": {
      "text/plain": [
       "['M', 'ri', ' Judith Andre', '']"
      ]
     },
     "execution_count": 6,
     "metadata": {
      "tags": []
     },
     "output_type": "execute_result"
    }
   ],
   "source": [
    "# Split Function\n",
    "name.split(\"a\")"
   ]
  },
  {
   "cell_type": "code",
   "execution_count": null,
   "metadata": {
    "colab": {
     "base_uri": "https://localhost:8080/",
     "height": 34
    },
    "colab_type": "code",
    "executionInfo": {
     "elapsed": 952,
     "status": "ok",
     "timestamp": 1600277304356,
     "user": {
      "displayName": "Diego Useche Reyes",
      "photoUrl": "https://lh3.googleusercontent.com/a-/AOh14Gg6lrk9agmplTKK54rGVqavR8_tM4odcJqDil2B2w=s64",
      "userId": "02270832771774592167"
     },
     "user_tz": 300
    },
    "id": "0nYYlaGqV-Gx",
    "outputId": "6950c46c-bbc2-4020-8021-493ab01e0e4e"
   },
   "outputs": [
    {
     "name": "stdout",
     "output_type": "stream",
     "text": [
      "Maria is 56 years old\n"
     ]
    }
   ],
   "source": [
    "# String Formating\n",
    "age = 56\n",
    "print(\"Maria is {} years old\".format(age))"
   ]
  },
  {
   "cell_type": "code",
   "execution_count": null,
   "metadata": {
    "colab": {
     "base_uri": "https://localhost:8080/",
     "height": 35
    },
    "colab_type": "code",
    "executionInfo": {
     "elapsed": 790,
     "status": "ok",
     "timestamp": 1600277307707,
     "user": {
      "displayName": "Diego Useche Reyes",
      "photoUrl": "https://lh3.googleusercontent.com/a-/AOh14Gg6lrk9agmplTKK54rGVqavR8_tM4odcJqDil2B2w=s64",
      "userId": "02270832771774592167"
     },
     "user_tz": 300
    },
    "id": "gTRC1FvwWW64",
    "outputId": "65b343bf-3edd-4bce-e853-102fa104f4e7"
   },
   "outputs": [
    {
     "data": {
      "application/vnd.google.colaboratory.intrinsic+json": {
       "type": "string"
      },
      "text/plain": [
       "'ia J'"
      ]
     },
     "execution_count": 8,
     "metadata": {
      "tags": []
     },
     "output_type": "execute_result"
    }
   ],
   "source": [
    "# Access to substrings as a list\n",
    "name[3:7]"
   ]
  },
  {
   "cell_type": "markdown",
   "metadata": {
    "colab_type": "text",
    "id": "bgUZzwHQSG9K"
   },
   "source": []
  },
  {
   "cell_type": "code",
   "execution_count": null,
   "metadata": {
    "colab": {},
    "colab_type": "code",
    "id": "9MThyP2KSMxK"
   },
   "outputs": [],
   "source": [
    "age = 56"
   ]
  },
  {
   "cell_type": "code",
   "execution_count": null,
   "metadata": {
    "colab": {
     "base_uri": "https://localhost:8080/",
     "height": 34
    },
    "colab_type": "code",
    "executionInfo": {
     "elapsed": 455,
     "status": "ok",
     "timestamp": 1600282797890,
     "user": {
      "displayName": "Diego Useche Reyes",
      "photoUrl": "https://lh3.googleusercontent.com/a-/AOh14Gg6lrk9agmplTKK54rGVqavR8_tM4odcJqDil2B2w=s64",
      "userId": "02270832771774592167"
     },
     "user_tz": 300
    },
    "id": "aKN3gzCbSIIa",
    "outputId": "c1f2f61b-ec1d-4701-ea46-5e7ae10fcf89"
   },
   "outputs": [
    {
     "name": "stdout",
     "output_type": "stream",
     "text": [
      "La edad de Maria es 56\n"
     ]
    }
   ],
   "source": [
    "### format \n",
    "print(\"La edad de Maria es {}\".format(age))"
   ]
  },
  {
   "cell_type": "markdown",
   "metadata": {
    "colab_type": "text",
    "id": "V437kox8Wttv"
   },
   "source": [
    "## Lists"
   ]
  },
  {
   "cell_type": "code",
   "execution_count": null,
   "metadata": {
    "colab": {
     "base_uri": "https://localhost:8080/",
     "height": 68
    },
    "colab_type": "code",
    "executionInfo": {
     "elapsed": 722,
     "status": "ok",
     "timestamp": 1600277311434,
     "user": {
      "displayName": "Diego Useche Reyes",
      "photoUrl": "https://lh3.googleusercontent.com/a-/AOh14Gg6lrk9agmplTKK54rGVqavR8_tM4odcJqDil2B2w=s64",
      "userId": "02270832771774592167"
     },
     "user_tz": 300
    },
    "id": "u0WVYnhBWkQS",
    "outputId": "a755e86d-221c-4b29-8eb3-db1f1ad5131d"
   },
   "outputs": [
    {
     "name": "stdout",
     "output_type": "stream",
     "text": [
      "[4, 9, 16, 25]\n",
      "[9, 16, 25, 36, 49]\n",
      "[0]\n"
     ]
    }
   ],
   "source": [
    "# Taken from https://www.sololearn.com/Play/Python\n",
    "squares = [0, 1, 4, 9, 16, 25, 36, 49, 64, 81]\n",
    "print(squares[2:6])\n",
    "print(squares[3:8])\n",
    "print(squares[0:1])"
   ]
  },
  {
   "cell_type": "code",
   "execution_count": null,
   "metadata": {
    "colab": {
     "base_uri": "https://localhost:8080/",
     "height": 34
    },
    "colab_type": "code",
    "executionInfo": {
     "elapsed": 799,
     "status": "ok",
     "timestamp": 1600277314167,
     "user": {
      "displayName": "Diego Useche Reyes",
      "photoUrl": "https://lh3.googleusercontent.com/a-/AOh14Gg6lrk9agmplTKK54rGVqavR8_tM4odcJqDil2B2w=s64",
      "userId": "02270832771774592167"
     },
     "user_tz": 300
    },
    "id": "8bSE3OS1YEA-",
    "outputId": "d3cf5a2e-8186-4639-8c4e-78efa66680b2"
   },
   "outputs": [
    {
     "data": {
      "text/plain": [
       "10"
      ]
     },
     "execution_count": 10,
     "metadata": {
      "tags": []
     },
     "output_type": "execute_result"
    }
   ],
   "source": [
    "# Find  the lenght of a list\n",
    "len(squares)"
   ]
  },
  {
   "cell_type": "code",
   "execution_count": null,
   "metadata": {
    "colab": {
     "base_uri": "https://localhost:8080/",
     "height": 51
    },
    "colab_type": "code",
    "executionInfo": {
     "elapsed": 672,
     "status": "ok",
     "timestamp": 1600277316954,
     "user": {
      "displayName": "Diego Useche Reyes",
      "photoUrl": "https://lh3.googleusercontent.com/a-/AOh14Gg6lrk9agmplTKK54rGVqavR8_tM4odcJqDil2B2w=s64",
      "userId": "02270832771774592167"
     },
     "user_tz": 300
    },
    "id": "NhXuNeclW5Av",
    "outputId": "3a217849-7ebb-4740-d0d7-6758f14faee1"
   },
   "outputs": [
    {
     "name": "stdout",
     "output_type": "stream",
     "text": [
      "[0, 4, 16, 36, 64]\n",
      "[4, 25]\n"
     ]
    }
   ],
   "source": [
    "# Taken from https://www.sololearn.com/Play/Python\n",
    "print(squares[::2])\n",
    "print(squares[2:8:3])"
   ]
  },
  {
   "cell_type": "code",
   "execution_count": null,
   "metadata": {
    "colab": {
     "base_uri": "https://localhost:8080/",
     "height": 34
    },
    "colab_type": "code",
    "executionInfo": {
     "elapsed": 957,
     "status": "ok",
     "timestamp": 1600277319974,
     "user": {
      "displayName": "Diego Useche Reyes",
      "photoUrl": "https://lh3.googleusercontent.com/a-/AOh14Gg6lrk9agmplTKK54rGVqavR8_tM4odcJqDil2B2w=s64",
      "userId": "02270832771774592167"
     },
     "user_tz": 300
    },
    "id": "ivzIxyqvXIcy",
    "outputId": "f8dd6dbf-4404-4b85-fb47-8271a5d76e18"
   },
   "outputs": [
    {
     "name": "stdout",
     "output_type": "stream",
     "text": [
      "[0, 1, 4, 9, 16, 25, 36, 49, 64, 81]\n"
     ]
    }
   ],
   "source": [
    "# List Comprehension\n",
    "print([i**2 for i in range(10)])"
   ]
  },
  {
   "cell_type": "code",
   "execution_count": null,
   "metadata": {
    "colab": {
     "base_uri": "https://localhost:8080/",
     "height": 34
    },
    "colab_type": "code",
    "executionInfo": {
     "elapsed": 782,
     "status": "ok",
     "timestamp": 1600277322171,
     "user": {
      "displayName": "Diego Useche Reyes",
      "photoUrl": "https://lh3.googleusercontent.com/a-/AOh14Gg6lrk9agmplTKK54rGVqavR8_tM4odcJqDil2B2w=s64",
      "userId": "02270832771774592167"
     },
     "user_tz": 300
    },
    "id": "ZZyvlbDaXawc",
    "outputId": "c1923fcd-f88f-41dc-b4a6-9223e7d84fae"
   },
   "outputs": [
    {
     "name": "stdout",
     "output_type": "stream",
     "text": [
      "[[1, 2], [3, 4]]\n"
     ]
    }
   ],
   "source": [
    "# List inside list\n",
    "matrix = [[1, 2],[3, 4]]\n",
    "print(matrix)"
   ]
  },
  {
   "cell_type": "code",
   "execution_count": null,
   "metadata": {
    "colab": {
     "base_uri": "https://localhost:8080/",
     "height": 34
    },
    "colab_type": "code",
    "executionInfo": {
     "elapsed": 640,
     "status": "ok",
     "timestamp": 1600277329847,
     "user": {
      "displayName": "Diego Useche Reyes",
      "photoUrl": "https://lh3.googleusercontent.com/a-/AOh14Gg6lrk9agmplTKK54rGVqavR8_tM4odcJqDil2B2w=s64",
      "userId": "02270832771774592167"
     },
     "user_tz": 300
    },
    "id": "N_08Y_xFZra1",
    "outputId": "97876ecc-9a7f-4825-c74f-1eef3be522a1"
   },
   "outputs": [
    {
     "name": "stdout",
     "output_type": "stream",
     "text": [
      "[[1, 2], [3, 7]]\n"
     ]
    }
   ],
   "source": [
    "matrix[1][1] = 7\n",
    "print(matrix)"
   ]
  },
  {
   "cell_type": "code",
   "execution_count": null,
   "metadata": {
    "colab": {
     "base_uri": "https://localhost:8080/",
     "height": 68
    },
    "colab_type": "code",
    "executionInfo": {
     "elapsed": 991,
     "status": "ok",
     "timestamp": 1600277332120,
     "user": {
      "displayName": "Diego Useche Reyes",
      "photoUrl": "https://lh3.googleusercontent.com/a-/AOh14Gg6lrk9agmplTKK54rGVqavR8_tM4odcJqDil2B2w=s64",
      "userId": "02270832771774592167"
     },
     "user_tz": 300
    },
    "id": "fMjkhyJRXyvY",
    "outputId": "f7f1c664-3c73-45ea-b6cb-1e7f6410c2c3"
   },
   "outputs": [
    {
     "name": "stdout",
     "output_type": "stream",
     "text": [
      "[1, 2]\n",
      "[3, 7]\n",
      "2\n"
     ]
    }
   ],
   "source": [
    "print(matrix[0])\n",
    "print(matrix[1])\n",
    "print(matrix[0][1])"
   ]
  },
  {
   "cell_type": "markdown",
   "metadata": {
    "colab_type": "text",
    "id": "WUjNB3-oZR5t"
   },
   "source": [
    "## Tuples"
   ]
  },
  {
   "cell_type": "code",
   "execution_count": null,
   "metadata": {
    "colab": {
     "base_uri": "https://localhost:8080/",
     "height": 197
    },
    "colab_type": "code",
    "executionInfo": {
     "elapsed": 867,
     "status": "error",
     "timestamp": 1600277336290,
     "user": {
      "displayName": "Diego Useche Reyes",
      "photoUrl": "https://lh3.googleusercontent.com/a-/AOh14Gg6lrk9agmplTKK54rGVqavR8_tM4odcJqDil2B2w=s64",
      "userId": "02270832771774592167"
     },
     "user_tz": 300
    },
    "id": "4YaoKF7lZDYf",
    "outputId": "8f86203e-c854-4f2d-961f-141a0cbf62fa"
   },
   "outputs": [
    {
     "ename": "TypeError",
     "evalue": "ignored",
     "output_type": "error",
     "traceback": [
      "\u001b[0;31m---------------------------------------------------------------------------\u001b[0m",
      "\u001b[0;31mTypeError\u001b[0m                                 Traceback (most recent call last)",
      "\u001b[0;32m<ipython-input-16-c28c46f7ae00>\u001b[0m in \u001b[0;36m<module>\u001b[0;34m()\u001b[0m\n\u001b[1;32m      2\u001b[0m \u001b[0;31m# Taken from https://www.sololearn.com/Play/Python\u001b[0m\u001b[0;34m\u001b[0m\u001b[0;34m\u001b[0m\u001b[0;34m\u001b[0m\u001b[0m\n\u001b[1;32m      3\u001b[0m \u001b[0mwords\u001b[0m \u001b[0;34m=\u001b[0m \u001b[0;34m(\u001b[0m\u001b[0;34m\"spam\"\u001b[0m\u001b[0;34m,\u001b[0m \u001b[0;34m\"eggs\"\u001b[0m\u001b[0;34m,\u001b[0m \u001b[0;34m\"sausages\"\u001b[0m\u001b[0;34m)\u001b[0m\u001b[0;34m\u001b[0m\u001b[0;34m\u001b[0m\u001b[0m\n\u001b[0;32m----> 4\u001b[0;31m \u001b[0mwords\u001b[0m\u001b[0;34m[\u001b[0m\u001b[0;36m1\u001b[0m\u001b[0;34m]\u001b[0m \u001b[0;34m=\u001b[0m \u001b[0;34m\"cheese\"\u001b[0m\u001b[0;34m\u001b[0m\u001b[0;34m\u001b[0m\u001b[0m\n\u001b[0m",
      "\u001b[0;31mTypeError\u001b[0m: 'tuple' object does not support item assignment"
     ]
    }
   ],
   "source": [
    "# Tuples are inmutable\n",
    "# Taken from https://www.sololearn.com/Play/Python\n",
    "words = (\"spam\", \"eggs\", \"sausages\")\n",
    "words[1] = \"cheese\""
   ]
  },
  {
   "cell_type": "code",
   "execution_count": null,
   "metadata": {
    "colab": {
     "base_uri": "https://localhost:8080/",
     "height": 34
    },
    "colab_type": "code",
    "executionInfo": {
     "elapsed": 728,
     "status": "ok",
     "timestamp": 1600277339628,
     "user": {
      "displayName": "Diego Useche Reyes",
      "photoUrl": "https://lh3.googleusercontent.com/a-/AOh14Gg6lrk9agmplTKK54rGVqavR8_tM4odcJqDil2B2w=s64",
      "userId": "02270832771774592167"
     },
     "user_tz": 300
    },
    "id": "pw0Hf-wWZkVV",
    "outputId": "adecda8b-3a1e-4f40-a1a5-ef27c5bf6c65"
   },
   "outputs": [
    {
     "name": "stdout",
     "output_type": "stream",
     "text": [
      "['spam', 'eggs', 'sausages', 'eggs']\n"
     ]
    }
   ],
   "source": [
    "# List of words\n",
    "words = [\"spam\", \"eggs\", \"sausages\", \"eggs\"]\n",
    "print(words)"
   ]
  },
  {
   "cell_type": "code",
   "execution_count": null,
   "metadata": {
    "colab": {
     "base_uri": "https://localhost:8080/",
     "height": 34
    },
    "colab_type": "code",
    "executionInfo": {
     "elapsed": 735,
     "status": "ok",
     "timestamp": 1600277341887,
     "user": {
      "displayName": "Diego Useche Reyes",
      "photoUrl": "https://lh3.googleusercontent.com/a-/AOh14Gg6lrk9agmplTKK54rGVqavR8_tM4odcJqDil2B2w=s64",
      "userId": "02270832771774592167"
     },
     "user_tz": 300
    },
    "id": "56pqQJSpaLMA",
    "outputId": "69799e26-3093-4060-87d7-675fafd99bbb"
   },
   "outputs": [
    {
     "name": "stdout",
     "output_type": "stream",
     "text": [
      "('spam', 'eggs', 'sausages', 'eggs')\n"
     ]
    }
   ],
   "source": [
    "words_tpl = tuple(words)\n",
    "print(words_tpl)"
   ]
  },
  {
   "cell_type": "markdown",
   "metadata": {
    "colab_type": "text",
    "id": "z3vDZ178cxSQ"
   },
   "source": [
    "## Dictionaries"
   ]
  },
  {
   "cell_type": "code",
   "execution_count": null,
   "metadata": {
    "colab": {
     "base_uri": "https://localhost:8080/",
     "height": 34
    },
    "colab_type": "code",
    "executionInfo": {
     "elapsed": 855,
     "status": "ok",
     "timestamp": 1600277346041,
     "user": {
      "displayName": "Diego Useche Reyes",
      "photoUrl": "https://lh3.googleusercontent.com/a-/AOh14Gg6lrk9agmplTKK54rGVqavR8_tM4odcJqDil2B2w=s64",
      "userId": "02270832771774592167"
     },
     "user_tz": 300
    },
    "id": "1u4_8vpra5G5",
    "outputId": "98ba0e0a-5ac7-456c-da44-096ca3c433a4"
   },
   "outputs": [
    {
     "data": {
      "text/plain": [
       "dict"
      ]
     },
     "execution_count": 19,
     "metadata": {
      "tags": []
     },
     "output_type": "execute_result"
    }
   ],
   "source": [
    "# Dictionaries map keys to value, keys must be inmutable\n",
    "ages = {\"David\":34, \"Felipe\":50, \"Ana\": 25}\n",
    "type(ages)"
   ]
  },
  {
   "cell_type": "code",
   "execution_count": null,
   "metadata": {
    "colab": {
     "base_uri": "https://localhost:8080/",
     "height": 34
    },
    "colab_type": "code",
    "executionInfo": {
     "elapsed": 630,
     "status": "ok",
     "timestamp": 1600277347929,
     "user": {
      "displayName": "Diego Useche Reyes",
      "photoUrl": "https://lh3.googleusercontent.com/a-/AOh14Gg6lrk9agmplTKK54rGVqavR8_tM4odcJqDil2B2w=s64",
      "userId": "02270832771774592167"
     },
     "user_tz": 300
    },
    "id": "2LVgpByrdFfi",
    "outputId": "411cb6cb-a05b-4500-c5e4-26b0ca42a3fc"
   },
   "outputs": [
    {
     "data": {
      "text/plain": [
       "50"
      ]
     },
     "execution_count": 20,
     "metadata": {
      "tags": []
     },
     "output_type": "execute_result"
    }
   ],
   "source": [
    "ages[\"Felipe\"]"
   ]
  },
  {
   "cell_type": "code",
   "execution_count": null,
   "metadata": {
    "colab": {},
    "colab_type": "code",
    "id": "cXaiq-fGdSs0"
   },
   "outputs": [],
   "source": [
    "# Change the value of the dictionary\n",
    "ages[\"Felipe\"] = 80"
   ]
  },
  {
   "cell_type": "code",
   "execution_count": null,
   "metadata": {
    "colab": {
     "base_uri": "https://localhost:8080/",
     "height": 34
    },
    "colab_type": "code",
    "executionInfo": {
     "elapsed": 914,
     "status": "ok",
     "timestamp": 1600277350856,
     "user": {
      "displayName": "Diego Useche Reyes",
      "photoUrl": "https://lh3.googleusercontent.com/a-/AOh14Gg6lrk9agmplTKK54rGVqavR8_tM4odcJqDil2B2w=s64",
      "userId": "02270832771774592167"
     },
     "user_tz": 300
    },
    "id": "QVfFphnZdnYo",
    "outputId": "5cf9587d-0ea4-4ee6-e58f-20ba59fbad1c"
   },
   "outputs": [
    {
     "name": "stdout",
     "output_type": "stream",
     "text": [
      "{'David': 34, 'Felipe': 80, 'Ana': 25}\n"
     ]
    }
   ],
   "source": [
    "print(ages)"
   ]
  },
  {
   "cell_type": "code",
   "execution_count": null,
   "metadata": {
    "colab": {
     "base_uri": "https://localhost:8080/",
     "height": 34
    },
    "colab_type": "code",
    "executionInfo": {
     "elapsed": 657,
     "status": "ok",
     "timestamp": 1600277424767,
     "user": {
      "displayName": "Diego Useche Reyes",
      "photoUrl": "https://lh3.googleusercontent.com/a-/AOh14Gg6lrk9agmplTKK54rGVqavR8_tM4odcJqDil2B2w=s64",
      "userId": "02270832771774592167"
     },
     "user_tz": 300
    },
    "id": "YVQKSugwdogo",
    "outputId": "609d82db-9e9f-418e-f374-3d5cc5f81ac6"
   },
   "outputs": [
    {
     "name": "stdout",
     "output_type": "stream",
     "text": [
      "False\n"
     ]
    }
   ],
   "source": [
    "# Check wheter an element is in the dictinary\n",
    "print(\"Camila\" in ages)"
   ]
  },
  {
   "cell_type": "code",
   "execution_count": null,
   "metadata": {
    "colab": {
     "base_uri": "https://localhost:8080/",
     "height": 34
    },
    "colab_type": "code",
    "executionInfo": {
     "elapsed": 675,
     "status": "ok",
     "timestamp": 1600277430639,
     "user": {
      "displayName": "Diego Useche Reyes",
      "photoUrl": "https://lh3.googleusercontent.com/a-/AOh14Gg6lrk9agmplTKK54rGVqavR8_tM4odcJqDil2B2w=s64",
      "userId": "02270832771774592167"
     },
     "user_tz": 300
    },
    "id": "vXi74GfjeKMx",
    "outputId": "a6280dde-7078-4d50-cd38-622cd5098ecd"
   },
   "outputs": [
    {
     "data": {
      "text/plain": [
       "dict_keys(['David', 'Felipe', 'Ana'])"
      ]
     },
     "execution_count": 24,
     "metadata": {
      "tags": []
     },
     "output_type": "execute_result"
    }
   ],
   "source": [
    "# Use one dictionary function\n",
    "ages.keys()"
   ]
  },
  {
   "cell_type": "code",
   "execution_count": null,
   "metadata": {
    "colab": {},
    "colab_type": "code",
    "id": "egAJ5l0T99-K"
   },
   "outputs": [],
   "source": [
    "ages[\"Camila\"] = 18"
   ]
  },
  {
   "cell_type": "code",
   "execution_count": null,
   "metadata": {
    "colab": {
     "base_uri": "https://localhost:8080/",
     "height": 34
    },
    "colab_type": "code",
    "executionInfo": {
     "elapsed": 511,
     "status": "ok",
     "timestamp": 1600277482060,
     "user": {
      "displayName": "Diego Useche Reyes",
      "photoUrl": "https://lh3.googleusercontent.com/a-/AOh14Gg6lrk9agmplTKK54rGVqavR8_tM4odcJqDil2B2w=s64",
      "userId": "02270832771774592167"
     },
     "user_tz": 300
    },
    "id": "OszZIkH2-HZc",
    "outputId": "eda0a0e1-5129-4724-92e6-b6bffbb7b977"
   },
   "outputs": [
    {
     "data": {
      "text/plain": [
       "{'Ana': 25, 'Camila': 18, 'David': 34, 'Felipe': 80}"
      ]
     },
     "execution_count": 26,
     "metadata": {
      "tags": []
     },
     "output_type": "execute_result"
    }
   ],
   "source": [
    "ages"
   ]
  },
  {
   "cell_type": "code",
   "execution_count": null,
   "metadata": {
    "colab": {
     "base_uri": "https://localhost:8080/",
     "height": 34
    },
    "colab_type": "code",
    "executionInfo": {
     "elapsed": 593,
     "status": "ok",
     "timestamp": 1600204755817,
     "user": {
      "displayName": "Diego Useche Reyes",
      "photoUrl": "https://lh3.googleusercontent.com/a-/AOh14Gg6lrk9agmplTKK54rGVqavR8_tM4odcJqDil2B2w=s64",
      "userId": "02270832771774592167"
     },
     "user_tz": 300
    },
    "id": "6TIwNnTQfMCV",
    "outputId": "34f298c7-230b-43dc-e28b-ae1eb083b430"
   },
   "outputs": [
    {
     "name": "stdout",
     "output_type": "stream",
     "text": [
      "[54, 108, 162, 216, 270, 324, 378, 432, 486, 540, 594, 648, 702, 756, 810, 864, 918, 972]\n"
     ]
    }
   ],
   "source": [
    "integers = []\n",
    "i = 1\n",
    "while 54*i < 1000:\n",
    "  integers.append(54*i)\n",
    "  i += 1\n",
    "\n",
    "print(integers)"
   ]
  },
  {
   "cell_type": "code",
   "execution_count": null,
   "metadata": {
    "colab": {
     "base_uri": "https://localhost:8080/",
     "height": 34
    },
    "colab_type": "code",
    "executionInfo": {
     "elapsed": 478,
     "status": "ok",
     "timestamp": 1600204776795,
     "user": {
      "displayName": "Diego Useche Reyes",
      "photoUrl": "https://lh3.googleusercontent.com/a-/AOh14Gg6lrk9agmplTKK54rGVqavR8_tM4odcJqDil2B2w=s64",
      "userId": "02270832771774592167"
     },
     "user_tz": 300
    },
    "id": "TApHuQnVoi3-",
    "outputId": "00fd8584-f22b-4ecd-eb3b-775b1619b678"
   },
   "outputs": [
    {
     "data": {
      "text/plain": [
       "9234"
      ]
     },
     "execution_count": 52,
     "metadata": {
      "tags": []
     },
     "output_type": "execute_result"
    }
   ],
   "source": [
    "sum(integers)"
   ]
  },
  {
   "cell_type": "markdown",
   "metadata": {
    "colab_type": "text",
    "id": "EQ95z7C8uaFs"
   },
   "source": [
    "## Exercise"
   ]
  },
  {
   "cell_type": "code",
   "execution_count": null,
   "metadata": {
    "colab": {
     "base_uri": "https://localhost:8080/",
     "height": 85
    },
    "colab_type": "code",
    "executionInfo": {
     "elapsed": 2924,
     "status": "ok",
     "timestamp": 1600205378777,
     "user": {
      "displayName": "Diego Useche Reyes",
      "photoUrl": "https://lh3.googleusercontent.com/a-/AOh14Gg6lrk9agmplTKK54rGVqavR8_tM4odcJqDil2B2w=s64",
      "userId": "02270832771774592167"
     },
     "user_tz": 300
    },
    "id": "HovPi-gvowNH",
    "outputId": "f720f311-fd75-4a5e-9a6d-4c1a56048ece"
   },
   "outputs": [
    {
     "name": "stdout",
     "output_type": "stream",
     "text": [
      "Por favor ingrese su numero magico:54\n",
      "Los múltiplos de 54 entre 1 y 1000 son:\n",
      "[54, 108, 162, 216, 270, 324, 378, 432, 486, 540, 594, 648, 702, 756, 810, 864, 918, 972]\n",
      "Su suma es: 9234\n"
     ]
    }
   ],
   "source": [
    "number = input(\"Por favor ingrese su numero magico:\")\n",
    "integers = []\n",
    "i = 1\n",
    "number = int(number)\n",
    "while number*i < 1000:\n",
    "  integers.append(54*i)\n",
    "  i += 1\n",
    "print(\"Los múltiplos de {} entre 1 y 1000 son:\".format(number))\n",
    "print(integers)\n",
    "print(\"Su suma es: {}\".format(sum(integers)))"
   ]
  }
 ],
 "metadata": {
  "colab": {
   "authorship_tag": "ABX9TyOszPNzeCxJuQAk0uusvm98",
   "name": "Python 2 - lists tuples dicts strings.ipynb",
   "provenance": []
  },
  "kernelspec": {
   "display_name": "Python 3",
   "language": "python",
   "name": "python3"
  },
  "language_info": {
   "codemirror_mode": {
    "name": "ipython",
    "version": 3
   },
   "file_extension": ".py",
   "mimetype": "text/x-python",
   "name": "python",
   "nbconvert_exporter": "python",
   "pygments_lexer": "ipython3",
   "version": "3.8.10"
  }
 },
 "nbformat": 4,
 "nbformat_minor": 1
}
